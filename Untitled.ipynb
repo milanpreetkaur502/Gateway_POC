{
 "cells": [
  {
   "cell_type": "code",
   "execution_count": 16,
   "id": "eb7d0ca6",
   "metadata": {},
   "outputs": [],
   "source": [
    "import logging\n",
    "logging.basicConfig(level=0,filename='/var/lib/gateway/aaa/main.log',filemode='w',format='[%(asctime)s] [%(levelname)s] - %(message)s')\n",
    "logger=logging.getLogger()"
   ]
  },
  {
   "cell_type": "code",
   "execution_count": 17,
   "id": "8d6305f1",
   "metadata": {},
   "outputs": [],
   "source": [
    "logger.info(\"NODE STARTED\")"
   ]
  },
  {
   "cell_type": "code",
   "execution_count": 18,
   "id": "0fe9b45f",
   "metadata": {},
   "outputs": [],
   "source": [
    "logger.error(\"aaa\")"
   ]
  },
  {
   "cell_type": "code",
   "execution_count": null,
   "id": "73166e51",
   "metadata": {},
   "outputs": [],
   "source": []
  }
 ],
 "metadata": {
  "kernelspec": {
   "display_name": "Python 3 (ipykernel)",
   "language": "python",
   "name": "python3"
  },
  "language_info": {
   "codemirror_mode": {
    "name": "ipython",
    "version": 3
   },
   "file_extension": ".py",
   "mimetype": "text/x-python",
   "name": "python",
   "nbconvert_exporter": "python",
   "pygments_lexer": "ipython3",
   "version": "3.8.10"
  }
 },
 "nbformat": 4,
 "nbformat_minor": 5
}
